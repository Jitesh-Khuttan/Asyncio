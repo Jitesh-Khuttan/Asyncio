{
 "cells": [
  {
   "cell_type": "markdown",
   "metadata": {},
   "source": [
    "Source :- https://realpython.com/async-io-python/\n",
    "\n",
    "Please use Python version > 3.7\n",
    "\n",
    "Use code below to check:\n",
    "\n",
    "<code>\n",
    "from platform import python_version\n",
    "print(python_version())\n",
    "</code>"
   ]
  },
  {
   "cell_type": "markdown",
   "metadata": {},
   "source": [
    "#### Parallelism vs Concurrency vs Threading\n",
    "\n",
    "<b>Parallelism</b> consists of performing multiple operations at the same time. Multiprocessing is a means to effect parallelism, and it entails spreading tasks over a computer’s central processing units (CPUs, or cores). Multiprocessing is well-suited for CPU-bound tasks: tightly bound for loops and mathematical computations usually fall into this category.\n",
    "\n",
    "<b>Concurrency</b> is a slightly broader term than parallelism. It suggests that multiple tasks have the ability to run in an overlapping manner. (There’s a saying that concurrency does not imply parallelism.)\n",
    "\n",
    "<b>Threading</b> is a concurrent execution model whereby multiple threads take turns executing tasks. One process can contain multiple threads. Python has a complicated relationship with threading thanks to its GIL."
   ]
  },
  {
   "cell_type": "markdown",
   "metadata": {},
   "source": [
    "<b>Asyncio</b> - async IO is a single-threaded, single-process design: it uses <b> cooperative multitasking </b>. async IO is a style of concurrent programming, but it is not parallelism. It’s more closely aligned with threading than with multiprocessing but is very much distinct from both of these and is a standalone member in concurrency’s bag of tricks."
   ]
  },
  {
   "cell_type": "code",
   "execution_count": 5,
   "metadata": {},
   "outputs": [],
   "source": [
    "#Simple example of async function.\n",
    "\n",
    "import asyncio\n",
    "\n",
    "async def count():\n",
    "    print(\"One\")\n",
    "    await asyncio.sleep(1)\n",
    "    print(\"Two\")\n",
    "\n",
    "async def main():\n",
    "    await asyncio.gather(count(), count(), count())"
   ]
  },
  {
   "cell_type": "code",
   "execution_count": 9,
   "metadata": {
    "collapsed": true
   },
   "outputs": [
    {
     "name": "stdout",
     "output_type": "stream",
     "text": [
      "One\n",
      "One\n",
      "One\n",
      "Two\n",
      "Two\n",
      "Two\n",
      "Executed in 1.01 seconds.\n"
     ]
    }
   ],
   "source": [
    "import time\n",
    "s = time.perf_counter()\n",
    "await main()\n",
    "elapsed = time.perf_counter() - s\n",
    "print(f\"Executed in {elapsed:0.2f} seconds.\")"
   ]
  },
  {
   "cell_type": "markdown",
   "metadata": {},
   "source": [
    "### The Rules of Async IO\n",
    "- The syntax async def introduces either a native coroutine or an asynchronous generator.\n",
    "- The keyword await passes function control back to the event loop. (It suspends the execution of the surrounding coroutine.) If Python encounters an await f() expression in the scope of g(), this is how await tells the event loop, “Suspend execution of g() until whatever I’m waiting on—the result of f()—is returned. In the meantime, go let something else run.”\n",
    "\n",
    "<code> \n",
    "    async def g():\n",
    "        #Pause here and come back to g() when f() is ready\n",
    "        r = await f()\n",
    "        return r\n",
    "</code>\n",
    "\n",
    "There’s also a strict set of rules around when and how you can and cannot use async/await.\n",
    "- A function that you introduce with <code> async def </code> is a <b> coroutine </b>. It may use <code> await, return, or yield </code>, but all of these are optional. Declaring <code> async def noop(): pass </code> is valid.\n",
    "    1. Using await and/or return creates a <b> coroutine function </b>. To call a coroutine function, you must await it to get its results.\n",
    "    2. It is less common (and only recently legal in Python) to use <code> yield </code> in an <code> async def </code> block. This creates an <b> asynchronous generator </b>, which you iterate over with <code> async for </code>.\n",
    "    3. Anything defined with <code> async def </code> may not use <code> yield from </code>, which will raise a <b>SyntaxError</b>.\n",
    "\n",
    "- Just like it’s a SyntaxError to use yield outside of a def function, it is a SyntaxError to use await outside of an async def coroutine. <b> <i> You can only use await in the body of coroutines. </i> </b>\n",
    "\n",
    "<b>Examples:</b>\n",
    "\n",
    "<code>\n",
    "async def f(x):\n",
    "    y = await z(x)   # OK - `await` and `return` allowed in coroutines\n",
    "    return y\n",
    " </code>\n",
    "\n",
    "<code>\n",
    "async def g(x):\n",
    "    yield x  # OK - this is an async generator\n",
    "</code>\n",
    "\n",
    "<code>\n",
    "async def m(x):\n",
    "    yield from gen(x)  # No - SyntaxError\n",
    "</code>\n",
    "    \n",
    "<code>\n",
    "def m(x):\n",
    "    y = await z(x)  #Still no - SyntaxError (no `async def` here)\n",
    "    return y\n",
    "</code>\n",
    "\n",
    "Finally, when you use await f(), it’s required that f() be an object that is <b>awaitable</b>. \n",
    "Just know that an awaitable object is either:\n",
    "- another coroutine (or)\n",
    "- an object defining an .\\_\\_await\\_\\_() dunder method that returns an iterator."
   ]
  },
  {
   "cell_type": "code",
   "execution_count": 12,
   "metadata": {},
   "outputs": [
    {
     "name": "stdout",
     "output_type": "stream",
     "text": [
      "\u001b[36mInitiated makerandom(0).\n",
      "\u001b[36mmakerandom(0) == 4 too low; retrying.\n",
      "\u001b[91mInitiated makerandom(1).\n",
      "\u001b[91mmakerandom(1) == 4 too low; retrying.\n",
      "\u001b[35mInitiated makerandom(2).\n",
      "\u001b[35mmakerandom(2) == 0 too low; retrying.\n",
      "\u001b[36mmakerandom(0) == 4 too low; retrying.\n",
      "\u001b[91mmakerandom(1) == 7 too low; retrying.\n",
      "\u001b[36mmakerandom(0) == 4 too low; retrying.\n",
      "\u001b[35mmakerandom(2) == 4 too low; retrying.\n",
      "\u001b[36mmakerandom(0) == 8 too low; retrying.\n",
      "\u001b[91m---> Finished: makerandom(1) == 10\u001b[0m\n",
      "\u001b[36mmakerandom(0) == 7 too low; retrying.\n",
      "\u001b[36mmakerandom(0) == 8 too low; retrying.\n",
      "\u001b[35mmakerandom(2) == 4 too low; retrying.\n",
      "\u001b[36mmakerandom(0) == 7 too low; retrying.\n",
      "\u001b[36mmakerandom(0) == 1 too low; retrying.\n",
      "\u001b[36mmakerandom(0) == 6 too low; retrying.\n",
      "\u001b[35m---> Finished: makerandom(2) == 9\u001b[0m\n",
      "\u001b[36mmakerandom(0) == 3 too low; retrying.\n",
      "\u001b[36mmakerandom(0) == 9 too low; retrying.\n",
      "\u001b[36mmakerandom(0) == 7 too low; retrying.\n",
      "\u001b[36m---> Finished: makerandom(0) == 10\u001b[0m\n",
      "\n",
      "r1: 10, r2: 10, r3: 9\n"
     ]
    }
   ],
   "source": [
    "import asyncio\n",
    "import random\n",
    "\n",
    "# ANSI colors\n",
    "c = (\n",
    "    \"\\033[0m\",   # End of color\n",
    "    \"\\033[36m\",  # Cyan\n",
    "    \"\\033[91m\",  # Red\n",
    "    \"\\033[35m\",  # Magenta\n",
    ")\n",
    "\n",
    "async def makerandom(idx: int, threshold: int = 6) -> int:\n",
    "    print(c[idx + 1] + f\"Initiated makerandom({idx}).\")\n",
    "    i = random.randint(0, 10)\n",
    "    while i <= threshold:\n",
    "        print(c[idx + 1] + f\"makerandom({idx}) == {i} too low; retrying.\")\n",
    "        await asyncio.sleep(idx + 1)\n",
    "        i = random.randint(0, 10)\n",
    "    print(c[idx + 1] + f\"---> Finished: makerandom({idx}) == {i}\" + c[0])\n",
    "    return i\n",
    "\n",
    "async def main():\n",
    "    res = await asyncio.gather(*(makerandom(i, 10 - i - 1) for i in range(3)))\n",
    "    return res\n",
    "\n",
    "random.seed(444)\n",
    "r1, r2, r3 = await main()\n",
    "print()\n",
    "print(f\"r1: {r1}, r2: {r2}, r3: {r3}\")"
   ]
  },
  {
   "cell_type": "code",
   "execution_count": 4,
   "metadata": {},
   "outputs": [
    {
     "name": "stdout",
     "output_type": "stream",
     "text": [
      "Calculating square of 1\n",
      "Calculating square of 2\n",
      "Calculating square of 3\n",
      "Square of 3 -> 9\n",
      "Square of 1 -> 1\n",
      "Square of 2 -> 4\n"
     ]
    },
    {
     "data": {
      "text/plain": [
       "(1, 4, 9)"
      ]
     },
     "execution_count": 4,
     "metadata": {},
     "output_type": "execute_result"
    }
   ],
   "source": [
    "import asyncio\n",
    "import random\n",
    "random.seed(444)\n",
    "\n",
    "async def squares(number):\n",
    "    print(f\"Calculating square of {number}\")\n",
    "    await asyncio.sleep(random.randint(0, 3))\n",
    "    result = number ** 2\n",
    "    print(f\"Square of {number} -> {result}\")\n",
    "    return result\n",
    "    \n",
    "async def main():\n",
    "    result = await asyncio.gather(squares(1), squares(2), squares(3))\n",
    "    return result\n",
    "\n",
    "s1, s2, s3 = await main()\n",
    "s1, s2, s3"
   ]
  },
  {
   "cell_type": "markdown",
   "metadata": {},
   "source": [
    "### Coroutines\n",
    "\n",
    "source:- https://www.geeksforgeeks.org/coroutine-in-python/\n",
    "\n",
    "Coroutines are generalizations of subroutines. They are used for <b> cooperative multitasking </b> where a process voluntarily <b> <i> yield </i> </b> (give away) control periodically or when idle in order to enable multiple applications to be run simultaneously. The difference between coroutine and subroutine is : \n",
    " \n",
    "\n",
    "- Unlike subroutines, coroutines have many entry points for suspending and resuming execution. Coroutine can suspend its execution and transfer control to other coroutine and can resume again execution from the point it left off.\n",
    "- Unlike subroutines, there is no main function to call coroutines in a particular order and coordinate the results. Coroutines are cooperative that means they link together to form a pipeline. One coroutine may consume input data and send it to other that process it. Finally, there may be a coroutine to display the result.\n",
    "\n",
    "\n",
    "<b> Coroutine Vs Thread </b>\n",
    "\n",
    "Now you might be thinking how coroutine is different from threads, both seem to do the same job. \n",
    "In the case of threads, it’s an operating system (or run time environment) that switches between threads according to the scheduler. While in the case of a coroutine, it’s the programmer and programming language which decides when to switch coroutines. Coroutines work cooperatively multitask by suspending and resuming at set points by the programmer. "
   ]
  },
  {
   "cell_type": "code",
   "execution_count": null,
   "metadata": {},
   "outputs": [],
   "source": []
  },
  {
   "cell_type": "code",
   "execution_count": null,
   "metadata": {},
   "outputs": [],
   "source": []
  }
 ],
 "metadata": {
  "kernelspec": {
   "display_name": "Python 3 (ipykernel)",
   "language": "python",
   "name": "python3"
  },
  "language_info": {
   "codemirror_mode": {
    "name": "ipython",
    "version": 3
   },
   "file_extension": ".py",
   "mimetype": "text/x-python",
   "name": "python",
   "nbconvert_exporter": "python",
   "pygments_lexer": "ipython3",
   "version": "3.8.8"
  }
 },
 "nbformat": 4,
 "nbformat_minor": 2
}
